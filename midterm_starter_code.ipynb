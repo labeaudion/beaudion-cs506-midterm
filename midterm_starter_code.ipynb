{
 "cells": [
  {
   "cell_type": "markdown",
   "metadata": {},
   "source": [
    "# Libraries"
   ]
  },
  {
   "cell_type": "code",
   "execution_count": 16,
   "metadata": {},
   "outputs": [],
   "source": [
    "import pickle\n",
    "import nltk\n",
    "import pandas as pd\n",
    "import numpy as np\n",
    "import seaborn as sns\n",
    "from os.path import exists\n",
    "import matplotlib.pyplot as plt\n",
    "from sklearn.neighbors import KNeighborsClassifier\n",
    "from sklearn.model_selection import train_test_split\n",
    "from sklearn.metrics import accuracy_score, confusion_matrix\n",
    "import string\n",
    "from sklearn.feature_extraction.text import TfidfVectorizer\n",
    "from sklearn.decomposition import TruncatedSVD\n",
    "from sklearn.linear_model import LogisticRegression\n",
    "#from sklearn.ensemble import RandomForestClassifier\n",
    "from sklearn.preprocessing import StandardScaler\n",
    "from sklearn.metrics import mean_absolute_error, mean_squared_error\n",
    "from nltk.corpus import stopwords\n",
    "from nltk.tokenize import word_tokenize\n"
   ]
  },
  {
   "cell_type": "markdown",
   "metadata": {},
   "source": [
    "# Loading the Files\n",
    "\n",
    "Download the csv files into the `data/` directory."
   ]
  },
  {
   "cell_type": "code",
   "execution_count": 3,
   "metadata": {},
   "outputs": [
    {
     "name": "stdout",
     "output_type": "stream",
     "text": [
      "train.csv shape is  (1697533, 9)\n",
      "test.csv shape is  (212192, 2)\n",
      "\n",
      "        Id   ProductId          UserId  HelpfulnessNumerator  \\\n",
      "0   914403  B0009W5KHM   AV6QDP8Q0ONK4                     2   \n",
      "1   354887  6303079709  A2I8RXJN80A2D2                     0   \n",
      "2  1407653  B004H0M2XC  A3FHV3RV8Z12E6                     0   \n",
      "3  1377458  B003ZJ9536  A12VLTA3ZHVPUY                     1   \n",
      "4   475323  630574453X  A13NM1PES9OXVN                     2   \n",
      "\n",
      "   HelpfulnessDenominator        Time  \\\n",
      "0                       2  1341014400   \n",
      "1                       0  1168819200   \n",
      "2                       0  1386201600   \n",
      "3                       1  1348704000   \n",
      "4                       3   970012800   \n",
      "\n",
      "                                         Summary  \\\n",
      "0                                  GOOD FUN FILM   \n",
      "1                                   Movie Review   \n",
      "2             When is it a good time to Consent?   \n",
      "3                                          TRUTH   \n",
      "4  Intelligent and bittersweet -- stays with you   \n",
      "\n",
      "                                                Text  Score  \n",
      "0  While most straight to DVD films are not worth...    5.0  \n",
      "1  I have wanted this one for sometime, also.  I ...    5.0  \n",
      "2  Actually this was a pretty darn good indie fil...    4.0  \n",
      "3  Episodes 37 to 72 of the series press on in a ...    5.0  \n",
      "4  I was really impressed with this movie, but wa...    3.0  \n",
      "\n",
      "        Id  Score\n",
      "0  1323432    NaN\n",
      "1  1137299    NaN\n",
      "2  1459366    NaN\n",
      "3   931601    NaN\n",
      "4  1311995    NaN\n",
      "\n",
      "                 Id  HelpfulnessNumerator  HelpfulnessDenominator  \\\n",
      "count  1.697533e+06          1.697533e+06            1.697533e+06   \n",
      "mean   8.487660e+05          3.569048e+00            5.301422e+00   \n",
      "std    4.900357e+05          1.727883e+01            2.024445e+01   \n",
      "min    0.000000e+00          0.000000e+00            0.000000e+00   \n",
      "25%    4.243830e+05          0.000000e+00            0.000000e+00   \n",
      "50%    8.487660e+05          1.000000e+00            1.000000e+00   \n",
      "75%    1.273149e+06          3.000000e+00            5.000000e+00   \n",
      "max    1.697532e+06          6.084000e+03            6.510000e+03   \n",
      "\n",
      "               Time         Score  \n",
      "count  1.697533e+06  1.485341e+06  \n",
      "mean   1.262422e+09  4.110517e+00  \n",
      "std    1.289277e+08  1.197651e+00  \n",
      "min    8.793792e+08  1.000000e+00  \n",
      "25%    1.164413e+09  4.000000e+00  \n",
      "50%    1.307491e+09  5.000000e+00  \n",
      "75%    1.373242e+09  5.000000e+00  \n",
      "max    1.406074e+09  5.000000e+00  \n"
     ]
    },
    {
     "data": {
      "image/png": "[encoded data removed]",
      "text/plain": [
       "<Figure size 432x288 with 1 Axes>"
      ]
     },
     "metadata": {
      "needs_background": "light"
     },
     "output_type": "display_data"
    },
    {
     "name": "stdout",
     "output_type": "stream",
     "text": [
      "\n",
      "EVERYTHING IS PROPERLY SET UP! YOU ARE READY TO START\n"
     ]
    }
   ],
   "source": [
    "trainingSet = pd.read_csv(\"./data/train.csv\")\n",
    "testingSet = pd.read_csv(\"./data/test.csv\")\n",
    "\n",
    "print(\"train.csv shape is \", trainingSet.shape)\n",
    "print(\"test.csv shape is \", testingSet.shape)\n",
    "\n",
    "print()\n",
    "\n",
    "print(trainingSet.head())\n",
    "print()\n",
    "print(testingSet.head())\n",
    "\n",
    "print()\n",
    "\n",
    "print(trainingSet.describe())\n",
    "\n",
    "trainingSet['Score'].value_counts().plot(kind='bar', legend=True, alpha=.5)\n",
    "plt.show()\n",
    "\n",
    "print()\n",
    "print(\"EVERYTHING IS PROPERLY SET UP! YOU ARE READY TO START\")"
   ]
  },
  {
   "cell_type": "markdown",
   "metadata": {},
   "source": [
    "# Adding Features"
   ]
  },
  {
   "cell_type": "code",
   "execution_count": 8,
   "metadata": {},
   "outputs": [],
   "source": [
    "stop_words = set(stopwords.words('english'))\n",
    "\n",
    "# # Function to remove stop words\n",
    "def remove_stop_words(text):\n",
    "    if pd.isna(text):  # Check for NaN values\n",
    "        return 'n/a'  # Return 'n/a' for missing text\n",
    "    words = word_tokenize(text)  # Tokenize the text into words\n",
    "    filtered_words = [word for word in words if word.lower() not in stop_words]  # Remove stop words\n",
    "    return ' '.join(filtered_words)\n",
    "\n",
    "def add_features_to(df):\n",
    "    # This is where you can do all your feature extraction\n",
    "\n",
    "    df['Helpfulness'] = df['HelpfulnessNumerator'] / df['HelpfulnessDenominator']\n",
    "    df['Helpfulness'] = df['Helpfulness'].fillna(0)\n",
    "\n",
    "    df['Review (Text) Length'] = df['Text'].str.len()\n",
    "    df['Review (Text) Length'] = df['Text'].apply(lambda x: len(x.split()) if pd.notna(x) else 0)\n",
    "\n",
    "    # cleaning up the text and summary fields\n",
    "    # Process the 'Summary' column\n",
    "    df['Short Summary'] = df['Summary'].str.lower()\n",
    "    df['Short Summary'] = df['Short Summary'].str.replace(f'[{string.punctuation}]', '', regex=True)\n",
    "    df['Short Summary'] = df['Short Summary'].apply(remove_stop_words)\n",
    "    df['Short Summary'] = df['Short Summary'].fillna('')\n",
    "\n",
    "    # # Process the 'Text' column\n",
    "    df['Short Text'] = df['Text'].str.lower()\n",
    "    df['Short Text'] = df['Short Text'].str.replace(f'[{string.punctuation}]', '', regex=True)\n",
    "    df['Short Text'] = df['Short Text'].apply(remove_stop_words)\n",
    "    df['Short Text'] = df['Short Text'].fillna('')\n",
    "\n",
    "    return df\n",
    "\n",
    "# Load the feature extracted files if they've already been generated\n",
    "if exists('./data/X_train.csv'):\n",
    "    X_train = pd.read_csv(\"./data/X_train.csv\")\n",
    "if exists('./data/X_submission.csv'):\n",
    "    X_submission = pd.read_csv(\"./data/X_submission.csv\")\n",
    "\n",
    "else:\n",
    "    # Process the DataFrame\n",
    "    train = add_features_to(trainingSet)\n",
    "\n",
    "    # Merge on Id so that the submission set can have feature columns as well\n",
    "    X_submission = pd.merge(train, testingSet, left_on='Id', right_on='Id')\n",
    "    X_submission = X_submission.drop(columns=['Score_x'])\n",
    "    X_submission = X_submission.rename(columns={'Score_y': 'Score'})\n",
    "\n",
    "    # The training set is where the score is not null\n",
    "    X_train =  train[train['Score'].notnull()]\n",
    "\n",
    "    X_submission.to_csv(\"./data/X_submission.csv\", index=False)\n",
    "    X_train.to_csv(\"./data/X_train.csv\", index=False)"
   ]
  },
  {
   "cell_type": "markdown",
   "metadata": {},
   "source": [
    "# Sample + Split into training and testing set"
   ]
  },
  {
   "cell_type": "code",
   "execution_count": 9,
   "metadata": {},
   "outputs": [],
   "source": [
    "# Split training set into training and testing set\n",
    "X_train, X_test, Y_train, Y_test = train_test_split(\n",
    "    X_train.drop(columns=['Score']),\n",
    "    X_train['Score'],\n",
    "    test_size=1/4.0,\n",
    "    random_state=0\n",
    ")"
   ]
  },
  {
   "cell_type": "markdown",
   "metadata": {},
   "source": [
    "# Feature Selection"
   ]
  },
  {
   "cell_type": "code",
   "execution_count": 17,
   "metadata": {},
   "outputs": [],
   "source": [
    "features = ['HelpfulnessNumerator', 'HelpfulnessDenominator', 'Time', 'Helpfulness', 'Review (Text) Length', 'Short Summary', 'Short Text']\n",
    "\n",
    "#features = ['Short Summary', 'Short Text']\n",
    "\n",
    "X_train_select = X_train[features]\n",
    "X_test_select = X_test[features]\n",
    "X_submission_select = X_submission[features]"
   ]
  },
  {
   "cell_type": "markdown",
   "metadata": {},
   "source": [
    "# Model Creation"
   ]
  },
  {
   "cell_type": "code",
   "execution_count": 40,
   "metadata": {},
   "outputs": [],
   "source": [
    "# Learn the model\n",
    "#model = KNeighborsClassifier(n_neighbors=3).fit(X_train_select, Y_train)\n",
    "\n",
    "# Step 1: Prepare text features\n",
    "tfidf_vectorizer = TfidfVectorizer(stop_words='english', max_features=5000)\n",
    "X_train_tfidf = tfidf_vectorizer.fit_transform(X_train['Short Text'])\n",
    "X_test_tfidf = tfidf_vectorizer.transform(X_test['Short Text'])\n",
    "X_submission_tfidf = tfidf_vectorizer.transform(X_submission['Short Text'])\n",
    "\n",
    "# Step 2: Apply LSA using TruncatedSVD\n",
    "svd = TruncatedSVD(n_components=250, random_state=0)\n",
    "X_train_lsa = svd.fit_transform(X_train_tfidf)\n",
    "X_test_lsa = svd.transform(X_test_tfidf)\n",
    "X_submission_lsa = svd.transform(X_submission_tfidf)\n",
    "\n",
    "# Step 3: Prepare numerical features (excluding Score)\n",
    "numerical_features_train = X_train[['Helpfulness']]\n",
    "numerical_features_test = X_test[['Helpfulness']]\n",
    "numerical_features_submission = X_submission[['Helpfulness']]\n",
    "\n",
    "# Standardize numerical features\n",
    "scaler = StandardScaler()\n",
    "numerical_features_train_scaled = scaler.fit_transform(numerical_features_train)\n",
    "numerical_features_test_scaled = scaler.transform(numerical_features_test)\n",
    "numerical_features_submission_scaled = scaler.transform(numerical_features_submission)\n",
    "\n",
    "# Step 4: Combine LSA and numerical features\n",
    "X_train_combined = np.hstack((X_train_lsa, numerical_features_train_scaled))\n",
    "X_test_combined = np.hstack((X_test_lsa, numerical_features_test_scaled))\n",
    "X_submission_combined = np.hstack((X_submission_lsa, numerical_features_submission_scaled))\n",
    "\n",
    "# Step 5: Define the target variable\n",
    "# Y_train = X_train['Score']  # Make sure to extract the target variable\n",
    "\n",
    "# Step 6: Train the model\n",
    "model = LogisticRegression(max_iter=1000)\n",
    "model.fit(X_train_combined, Y_train)\n",
    "\n",
    "# Step 7: Predict\n",
    "Y_test_predictions = model.predict(X_test_combined)\n",
    "\n",
    "\n",
    "\n",
    "\n",
    "\n",
    "# # Step 1: Prepare text features\n",
    "# tfidf_vectorizer = TfidfVectorizer(stop_words='english', max_features=5000)\n",
    "# X_train_tfidf = tfidf_vectorizer.fit_transform(X_train['Short Text'])\n",
    "# X_test_tfidf = tfidf_vectorizer.transform(X_test['Short Text'])\n",
    "# X_submission_tfidf = tfidf_vectorizer.transform(X_submission['Short Text'])\n",
    "\n",
    "# # Step 2: Apply LSA using TruncatedSVD\n",
    "# svd = TruncatedSVD(n_components=100, random_state=0)\n",
    "# X_train_lsa = svd.fit_transform(X_train_tfidf)\n",
    "# X_test_lsa = svd.transform(X_test_tfidf)\n",
    "# X_submission_lsa = svd.transform(X_submission_tfidf)\n",
    "\n",
    "# # Step 3: Prepare numerical features\n",
    "# numerical_features_train = X_train[['HelpfulnessNumerator', 'HelpfulnessDenominator', 'Helpfulness']]\n",
    "# numerical_features_test = X_test[['HelpfulnessNumerator', 'HelpfulnessDenominator', 'Helpfulness']]\n",
    "# numerical_features_submission = X_submission[['HelpfulnessNumerator', 'HelpfulnessDenominator', 'Helpfulness']]\n",
    "\n",
    "# # Standardize numerical features\n",
    "# scaler = StandardScaler()\n",
    "# numerical_features_train_scaled = scaler.fit_transform(numerical_features_train)\n",
    "# numerical_features_test_scaled = scaler.transform(numerical_features_test)\n",
    "# numerical_features_submission_scaled = scaler.transform(numerical_features_submission)\n",
    "\n",
    "# # Step 4: Combine LSA and numerical features\n",
    "# X_train_combined = np.hstack((X_train_lsa, numerical_features_train_scaled))\n",
    "# X_test_combined = np.hstack((X_test_lsa, numerical_features_test_scaled))\n",
    "# X_submission_combined = np.hstack((X_submission_lsa, numerical_features_submission_scaled))\n",
    "\n",
    "# # Step 5: Train the model\n",
    "# model = LogisticRegression(max_iter=1000)\n",
    "# model.fit(X_train_combined, Y_train)\n",
    "\n",
    "# # Predict\n",
    "# Y_test_predictions = model.predict(X_test_combined)\n",
    "\n",
    "\n",
    "\n",
    "\n",
    "# # Prepare text features\n",
    "# tfidf_vectorizer = TfidfVectorizer(stop_words='english', max_features=5000)\n",
    "\n",
    "# # Fit and transform the text data\n",
    "# X_train_tfidf = tfidf_vectorizer.fit_transform(X_train['Short Text'])\n",
    "# X_test_tfidf = tfidf_vectorizer.transform(X_test['Short Text'])\n",
    "# X_submission_tfidf = tfidf_vectorizer.transform(X_submission['Short Text'])\n",
    "\n",
    "# # Apply LSA using TruncatedSVD\n",
    "# svd = TruncatedSVD(n_components=100, random_state=0)  # Choose number of components\n",
    "# X_train_lsa = svd.fit_transform(X_train_tfidf)\n",
    "# X_test_lsa = svd.transform(X_test_tfidf)\n",
    "# X_submission_lsa = svd.transform(X_submission_tfidf)\n",
    "\n",
    "# # Train a classifier (Logistic Regression)\n",
    "# #model = RandomForestClassifier(n_estimators=100)\n",
    "# model = LogisticRegression(max_iter=1000)\n",
    "# model.fit(X_train_lsa, Y_train)\n",
    "\n",
    "# # Predict the score using the model\n",
    "# # Y_test_predictions = model.predict(X_test_select)\n",
    "# Y_test_predictions = model.predict(X_test_lsa)"
   ]
  },
  {
   "cell_type": "markdown",
   "metadata": {},
   "source": [
    "# Model Evaluation"
   ]
  },
  {
   "cell_type": "code",
   "execution_count": 41,
   "metadata": {},
   "outputs": [
    {
     "name": "stdout",
     "output_type": "stream",
     "text": [
      "Accuracy on testing set =  0.5981940883727944\n"
     ]
    },
    {
     "data": {
      "image/png": "[encoded data removed]",
      "text/plain": [
       "<Figure size 432x288 with 2 Axes>"
      ]
     },
     "metadata": {
      "needs_background": "light"
     },
     "output_type": "display_data"
    }
   ],
   "source": [
    "# Evaluate your model on the testing set\n",
    "print(\"Accuracy on testing set = \", accuracy_score(Y_test, Y_test_predictions))\n",
    "\n",
    "# Plot a confusion matrix\n",
    "cm = confusion_matrix(Y_test, Y_test_predictions, normalize='true')\n",
    "sns.heatmap(cm, annot=True)\n",
    "plt.title('Confusion matrix of the classifier')\n",
    "plt.xlabel('Predicted')\n",
    "plt.ylabel('True')\n",
    "plt.show()"
   ]
  },
  {
   "cell_type": "markdown",
   "metadata": {},
   "source": [
    "# Create submission file"
   ]
  },
  {
   "cell_type": "code",
   "execution_count": 42,
   "metadata": {},
   "outputs": [],
   "source": [
    "# Create the submission file\n",
    "X_submission['Score'] = model.predict(X_submission_combined)\n",
    "submission = X_submission[['Id', 'Score']]\n",
    "submission.to_csv(\"./data/submission.csv\", index=False)"
   ]
  }
 ],
 "metadata": {
  "kernelspec": {
   "display_name": "base",
   "language": "python",
   "name": "python3"
  },
  "language_info": {
   "codemirror_mode": {
    "name": "ipython",
    "version": 3
   },
   "file_extension": ".py",
   "mimetype": "text/x-python",
   "name": "python",
   "nbconvert_exporter": "python",
   "pygments_lexer": "ipython3",
   "version": "3.9.12"
  }
 },
 "nbformat": 4,
 "nbformat_minor": 2
}
